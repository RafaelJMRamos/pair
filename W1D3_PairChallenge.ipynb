{
 "cells": [
  {
   "cell_type": "code",
   "execution_count": 34,
   "metadata": {
    "collapsed": false
   },
   "outputs": [
    {
     "name": "stdout",
     "output_type": "stream",
     "text": [
      "Enter a number between 1 and 100: 80\n",
      "The computer's guess is:   41\n",
      "The computer's guess is:   96\n",
      "The computer's guess is:   85\n",
      "The computer's guess is:   50\n",
      "The computer's guess is:   59\n",
      "The computer's guess is:   63\n",
      "The computer's guess is:   79\n",
      "The computer's guess is:   82\n",
      "The computer guessed your number. Number of attempts:  8\n"
     ]
    }
   ],
   "source": [
    "from random import randint\n",
    "\n",
    "number = int(input('Enter a number between 1 and 100: '))\n",
    "while number <1 or number>100:\n",
    "    number = int(input('Number must be between 1 and 100! Select a new one: '))\n",
    "    \n",
    "computerguess = randint(1,100)\n",
    "    \n",
    "turns = 0\n",
    "high = 100\n",
    "low = 1\n",
    "compguess=randint(1,100)\n",
    "\n",
    "while compguess!=number: #computer has 10 turns to guess number, you can change it to what you want\n",
    "    print(\"The computer's guess is:  \", compguess)\n",
    "    if compguess>number:\n",
    "        high=compguess - 1\n",
    "        compguess=randint(low,high)\n",
    "        turns+=1\n",
    "        \n",
    "    elif compguess<number:\n",
    "        low = compguess + 1\n",
    "        compguess=randint(low,high)\n",
    "        turns+=1\n",
    "            \n",
    "if compguess==number:\n",
    "    print('The computer guessed your number. Number of attempts: ', turns)"
   ]
  },
  {
   "cell_type": "code",
   "execution_count": null,
   "metadata": {
    "collapsed": true
   },
   "outputs": [],
   "source": []
  }
 ],
 "metadata": {
  "kernelspec": {
   "display_name": "Python 3",
   "language": "python",
   "name": "python3"
  },
  "language_info": {
   "codemirror_mode": {
    "name": "ipython",
    "version": 3
   },
   "file_extension": ".py",
   "mimetype": "text/x-python",
   "name": "python",
   "nbconvert_exporter": "python",
   "pygments_lexer": "ipython3",
   "version": "3.5.1"
  }
 },
 "nbformat": 4,
 "nbformat_minor": 0
}
