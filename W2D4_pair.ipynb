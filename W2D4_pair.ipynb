{
 "cells": [
  {
   "cell_type": "code",
   "execution_count": 36,
   "metadata": {
    "collapsed": true
   },
   "outputs": [],
   "source": [
    "import numpy as np\n",
    "import pandas as pd"
   ]
  },
  {
   "cell_type": "code",
   "execution_count": 37,
   "metadata": {
    "collapsed": true
   },
   "outputs": [],
   "source": [
    "np.random.seed(seed=1)"
   ]
  },
  {
   "cell_type": "code",
   "execution_count": 65,
   "metadata": {
    "collapsed": false
   },
   "outputs": [],
   "source": [
    "y = np.random.randint(1, 200, size = 200)"
   ]
  },
  {
   "cell_type": "code",
   "execution_count": 66,
   "metadata": {
    "collapsed": false
   },
   "outputs": [
    {
     "data": {
      "text/plain": [
       "array([173,  27,  57, 109, 182, 101,  38,  47, 140,  65,  57,  23,  57,\n",
       "        77,  37, 179,  32,  24,  29,   1, 168,  62, 161,  67, 123,  59,\n",
       "        47, 110, 166, 182,  91,  34,  35,  26,  79,  20, 181,  85, 102,\n",
       "       192,  80, 128,  42, 167,  40,   7, 101,   9,   1,  88, 171, 147,\n",
       "        45, 172,  94, 102, 134, 131, 191, 165,  95, 126, 188,  84, 148,\n",
       "        24, 159, 146,  99, 168,  56,  24,  17, 138,  92,  31, 177, 178,\n",
       "        38,  52, 150, 129, 160,  94, 147,  40,  45,  50, 173,  24,  37,\n",
       "        82,  90,  70, 108,  86,  69,  62,  44, 175, 110, 182,  13, 164,\n",
       "        18, 140,   5,  27, 194,  17, 102, 126, 123, 154,  64, 122, 153,\n",
       "       145,  57,  20, 110, 112, 162,  66, 121,  30,  39, 182,  70,  92,\n",
       "        65, 148,  55, 105,  70, 199, 100,  23,  82, 157,  58, 179, 149,\n",
       "       158,  33, 172, 176, 175, 118, 111, 186,  80,   2, 120,  13, 168,\n",
       "        20, 184, 115, 188, 116,  58, 195,  89,  58, 182, 118, 184, 126,\n",
       "         3,  34, 173,  54, 166, 191,  61,  70, 123,  87,  13, 177, 137,\n",
       "       193,  27,  53, 146,  28, 171, 177, 121,  54,  93, 103, 143,  85,\n",
       "        46, 157, 144,  34,  90])"
      ]
     },
     "execution_count": 66,
     "metadata": {},
     "output_type": "execute_result"
    }
   ],
   "source": [
    "y"
   ]
  },
  {
   "cell_type": "code",
   "execution_count": 46,
   "metadata": {
    "collapsed": false
   },
   "outputs": [],
   "source": [
    "appendlist =[str('x'+str(i)) for i in range(1,21)]"
   ]
  },
  {
   "cell_type": "code",
   "execution_count": 47,
   "metadata": {
    "collapsed": false
   },
   "outputs": [],
   "source": [
    "columnnames.extend(appendlist)"
   ]
  },
  {
   "cell_type": "code",
   "execution_count": 48,
   "metadata": {
    "collapsed": false
   },
   "outputs": [
    {
     "data": {
      "text/plain": [
       "['y',\n",
       " 'x1',\n",
       " 'x2',\n",
       " 'x3',\n",
       " 'x4',\n",
       " 'x5',\n",
       " 'x6',\n",
       " 'x7',\n",
       " 'x8',\n",
       " 'x9',\n",
       " 'x10',\n",
       " 'x11',\n",
       " 'x12',\n",
       " 'x13',\n",
       " 'x14',\n",
       " 'x15',\n",
       " 'x16',\n",
       " 'x17',\n",
       " 'x18',\n",
       " 'x19',\n",
       " 'x20']"
      ]
     },
     "execution_count": 48,
     "metadata": {},
     "output_type": "execute_result"
    }
   ],
   "source": [
    "columnnames"
   ]
  },
  {
   "cell_type": "code",
   "execution_count": 49,
   "metadata": {
    "collapsed": true
   },
   "outputs": [],
   "source": [
    "df = pd.DataFrame(np.random.randint(0,100, size=(200, 21)), columns = columnnames)"
   ]
  },
  {
   "cell_type": "code",
   "execution_count": 56,
   "metadata": {
    "collapsed": false
   },
   "outputs": [
    {
     "ename": "LinAlgError",
     "evalue": "1-dimensional array given. Array must be at least two-dimensional",
     "output_type": "error",
     "traceback": [
      "\u001b[0;31m---------------------------------------------------------------------------\u001b[0m",
      "\u001b[0;31mLinAlgError\u001b[0m                               Traceback (most recent call last)",
      "\u001b[0;32m<ipython-input-56-44d8dd0f1247>\u001b[0m in \u001b[0;36m<module>\u001b[0;34m()\u001b[0m\n\u001b[0;32m----> 1\u001b[0;31m \u001b[0mtest\u001b[0m \u001b[0;34m=\u001b[0m \u001b[0mnp\u001b[0m\u001b[0;34m.\u001b[0m\u001b[0mlinalg\u001b[0m\u001b[0;34m.\u001b[0m\u001b[0minv\u001b[0m\u001b[0;34m(\u001b[0m\u001b[0;34m(\u001b[0m\u001b[0mdf\u001b[0m\u001b[0;34m.\u001b[0m\u001b[0mx1\u001b[0m\u001b[0;34m.\u001b[0m\u001b[0mtranspose\u001b[0m\u001b[0;34m(\u001b[0m\u001b[0;34m)\u001b[0m\u001b[0;34m)\u001b[0m\u001b[0;34m*\u001b[0m\u001b[0;34m(\u001b[0m\u001b[0mdf\u001b[0m\u001b[0;34m.\u001b[0m\u001b[0mx1\u001b[0m\u001b[0;34m)\u001b[0m\u001b[0;34m)\u001b[0m\u001b[0;34m*\u001b[0m\u001b[0;34m(\u001b[0m\u001b[0mdf\u001b[0m\u001b[0;34m.\u001b[0m\u001b[0mx1\u001b[0m\u001b[0;34m.\u001b[0m\u001b[0mtranspose\u001b[0m\u001b[0;34m(\u001b[0m\u001b[0;34m)\u001b[0m\u001b[0;34m)\u001b[0m\u001b[0;34m*\u001b[0m\u001b[0;34m(\u001b[0m\u001b[0mdf\u001b[0m\u001b[0;34m.\u001b[0m\u001b[0my\u001b[0m\u001b[0;34m)\u001b[0m\u001b[0;34m\u001b[0m\u001b[0m\n\u001b[0m",
      "\u001b[0;32m/Users/rafaelramos/anaconda/lib/python3.5/site-packages/numpy/linalg/linalg.py\u001b[0m in \u001b[0;36minv\u001b[0;34m(a)\u001b[0m\n\u001b[1;32m    514\u001b[0m     \"\"\"\n\u001b[1;32m    515\u001b[0m     \u001b[0ma\u001b[0m\u001b[0;34m,\u001b[0m \u001b[0mwrap\u001b[0m \u001b[0;34m=\u001b[0m \u001b[0m_makearray\u001b[0m\u001b[0;34m(\u001b[0m\u001b[0ma\u001b[0m\u001b[0;34m)\u001b[0m\u001b[0;34m\u001b[0m\u001b[0m\n\u001b[0;32m--> 516\u001b[0;31m     \u001b[0m_assertRankAtLeast2\u001b[0m\u001b[0;34m(\u001b[0m\u001b[0ma\u001b[0m\u001b[0;34m)\u001b[0m\u001b[0;34m\u001b[0m\u001b[0m\n\u001b[0m\u001b[1;32m    517\u001b[0m     \u001b[0m_assertNdSquareness\u001b[0m\u001b[0;34m(\u001b[0m\u001b[0ma\u001b[0m\u001b[0;34m)\u001b[0m\u001b[0;34m\u001b[0m\u001b[0m\n\u001b[1;32m    518\u001b[0m     \u001b[0mt\u001b[0m\u001b[0;34m,\u001b[0m \u001b[0mresult_t\u001b[0m \u001b[0;34m=\u001b[0m \u001b[0m_commonType\u001b[0m\u001b[0;34m(\u001b[0m\u001b[0ma\u001b[0m\u001b[0;34m)\u001b[0m\u001b[0;34m\u001b[0m\u001b[0m\n",
      "\u001b[0;32m/Users/rafaelramos/anaconda/lib/python3.5/site-packages/numpy/linalg/linalg.py\u001b[0m in \u001b[0;36m_assertRankAtLeast2\u001b[0;34m(*arrays)\u001b[0m\n\u001b[1;32m    200\u001b[0m         \u001b[0;32mif\u001b[0m \u001b[0mlen\u001b[0m\u001b[0;34m(\u001b[0m\u001b[0ma\u001b[0m\u001b[0;34m.\u001b[0m\u001b[0mshape\u001b[0m\u001b[0;34m)\u001b[0m \u001b[0;34m<\u001b[0m \u001b[0;36m2\u001b[0m\u001b[0;34m:\u001b[0m\u001b[0;34m\u001b[0m\u001b[0m\n\u001b[1;32m    201\u001b[0m             raise LinAlgError('%d-dimensional array given. Array must be '\n\u001b[0;32m--> 202\u001b[0;31m                     'at least two-dimensional' % len(a.shape))\n\u001b[0m\u001b[1;32m    203\u001b[0m \u001b[0;34m\u001b[0m\u001b[0m\n\u001b[1;32m    204\u001b[0m \u001b[0;32mdef\u001b[0m \u001b[0m_assertSquareness\u001b[0m\u001b[0;34m(\u001b[0m\u001b[0;34m*\u001b[0m\u001b[0marrays\u001b[0m\u001b[0;34m)\u001b[0m\u001b[0;34m:\u001b[0m\u001b[0;34m\u001b[0m\u001b[0m\n",
      "\u001b[0;31mLinAlgError\u001b[0m: 1-dimensional array given. Array must be at least two-dimensional"
     ]
    }
   ],
   "source": [
    "test = np.linalg.inv((df.x1.transpose())*(df.x1))*(df.x1.transpose())*(df.y)"
   ]
  },
  {
   "cell_type": "code",
   "execution_count": 57,
   "metadata": {
    "collapsed": false
   },
   "outputs": [
    {
     "ename": "LinAlgError",
     "evalue": "1-dimensional array given. Array must be at least two-dimensional",
     "output_type": "error",
     "traceback": [
      "\u001b[0;31m---------------------------------------------------------------------------\u001b[0m",
      "\u001b[0;31mLinAlgError\u001b[0m                               Traceback (most recent call last)",
      "\u001b[0;32m<ipython-input-57-00feb11844ac>\u001b[0m in \u001b[0;36m<module>\u001b[0;34m()\u001b[0m\n\u001b[0;32m----> 1\u001b[0;31m \u001b[0mnp\u001b[0m\u001b[0;34m.\u001b[0m\u001b[0mlinalg\u001b[0m\u001b[0;34m.\u001b[0m\u001b[0minv\u001b[0m\u001b[0;34m(\u001b[0m\u001b[0;34m(\u001b[0m\u001b[0mdf\u001b[0m\u001b[0;34m.\u001b[0m\u001b[0mx1\u001b[0m\u001b[0;34m.\u001b[0m\u001b[0mtranspose\u001b[0m\u001b[0;34m(\u001b[0m\u001b[0;34m)\u001b[0m\u001b[0;34m)\u001b[0m\u001b[0;34m*\u001b[0m\u001b[0;34m(\u001b[0m\u001b[0mdf\u001b[0m\u001b[0;34m.\u001b[0m\u001b[0mx1\u001b[0m\u001b[0;34m)\u001b[0m\u001b[0;34m)\u001b[0m\u001b[0;34m\u001b[0m\u001b[0m\n\u001b[0m",
      "\u001b[0;32m/Users/rafaelramos/anaconda/lib/python3.5/site-packages/numpy/linalg/linalg.py\u001b[0m in \u001b[0;36minv\u001b[0;34m(a)\u001b[0m\n\u001b[1;32m    514\u001b[0m     \"\"\"\n\u001b[1;32m    515\u001b[0m     \u001b[0ma\u001b[0m\u001b[0;34m,\u001b[0m \u001b[0mwrap\u001b[0m \u001b[0;34m=\u001b[0m \u001b[0m_makearray\u001b[0m\u001b[0;34m(\u001b[0m\u001b[0ma\u001b[0m\u001b[0;34m)\u001b[0m\u001b[0;34m\u001b[0m\u001b[0m\n\u001b[0;32m--> 516\u001b[0;31m     \u001b[0m_assertRankAtLeast2\u001b[0m\u001b[0;34m(\u001b[0m\u001b[0ma\u001b[0m\u001b[0;34m)\u001b[0m\u001b[0;34m\u001b[0m\u001b[0m\n\u001b[0m\u001b[1;32m    517\u001b[0m     \u001b[0m_assertNdSquareness\u001b[0m\u001b[0;34m(\u001b[0m\u001b[0ma\u001b[0m\u001b[0;34m)\u001b[0m\u001b[0;34m\u001b[0m\u001b[0m\n\u001b[1;32m    518\u001b[0m     \u001b[0mt\u001b[0m\u001b[0;34m,\u001b[0m \u001b[0mresult_t\u001b[0m \u001b[0;34m=\u001b[0m \u001b[0m_commonType\u001b[0m\u001b[0;34m(\u001b[0m\u001b[0ma\u001b[0m\u001b[0;34m)\u001b[0m\u001b[0;34m\u001b[0m\u001b[0m\n",
      "\u001b[0;32m/Users/rafaelramos/anaconda/lib/python3.5/site-packages/numpy/linalg/linalg.py\u001b[0m in \u001b[0;36m_assertRankAtLeast2\u001b[0;34m(*arrays)\u001b[0m\n\u001b[1;32m    200\u001b[0m         \u001b[0;32mif\u001b[0m \u001b[0mlen\u001b[0m\u001b[0;34m(\u001b[0m\u001b[0ma\u001b[0m\u001b[0;34m.\u001b[0m\u001b[0mshape\u001b[0m\u001b[0;34m)\u001b[0m \u001b[0;34m<\u001b[0m \u001b[0;36m2\u001b[0m\u001b[0;34m:\u001b[0m\u001b[0;34m\u001b[0m\u001b[0m\n\u001b[1;32m    201\u001b[0m             raise LinAlgError('%d-dimensional array given. Array must be '\n\u001b[0;32m--> 202\u001b[0;31m                     'at least two-dimensional' % len(a.shape))\n\u001b[0m\u001b[1;32m    203\u001b[0m \u001b[0;34m\u001b[0m\u001b[0m\n\u001b[1;32m    204\u001b[0m \u001b[0;32mdef\u001b[0m \u001b[0m_assertSquareness\u001b[0m\u001b[0;34m(\u001b[0m\u001b[0;34m*\u001b[0m\u001b[0marrays\u001b[0m\u001b[0;34m)\u001b[0m\u001b[0;34m:\u001b[0m\u001b[0;34m\u001b[0m\u001b[0m\n",
      "\u001b[0;31mLinAlgError\u001b[0m: 1-dimensional array given. Array must be at least two-dimensional"
     ]
    }
   ],
   "source": [
    "np.linalg.inv((df.x1.transpose())*(df.x1))"
   ]
  },
  {
   "cell_type": "code",
   "execution_count": 60,
   "metadata": {
    "collapsed": false
   },
   "outputs": [],
   "source": [
    "matrixdf = df.as_matrix"
   ]
  },
  {
   "cell_type": "code",
   "execution_count": 61,
   "metadata": {
    "collapsed": false
   },
   "outputs": [
    {
     "data": {
      "text/plain": [
       "<bound method NDFrame.as_matrix of       y  x1  x2  x3  x4  x5  x6  x7  x8  x9 ...   x11  x12  x13  x14  x15  \\\n",
       "0    37  12  72   9  75   5  79  64  16   1 ...    71    6   25   50   20   \n",
       "1    14  50  68  87  87  94  96  86  13   9 ...    63   61   22   57    1   \n",
       "2    13  47  72  30  71   3  70  21  49  57 ...    68   24   43   76   26   \n",
       "3    64  68  25  98  87   7  26  25  22   9 ...    23   27   37   57   83   \n",
       "4    23  15  87  25  71  92  74  62  46  32 ...    23   55   65   77    3   \n",
       "5    70   2  76  91  21  75   7  77  72  75 ...    43   20   30   36    7   \n",
       "6    13  10  23  81   7  24  74  92  20  32 ...    65   94   60   24   82   \n",
       "7    54  96  82  86  70  66  71  48  54  15 ...    17   42   20   48   22   \n",
       "8    96  55  61  56  89  21  96  83  25  14 ...    84   43    6   77   56   \n",
       "9    71  53  69  36  21  40  77  91  49  47 ...    40   78   45   87   16   \n",
       "10   46   0  29  63  75  35  53  93  33   2 ...    83   48   54   32   28   \n",
       "11   74   8  99  32   8  84  77  50  79  41 ...    83   24   20   44   15   \n",
       "12   86   7  99  53  47  60  34  32  19  67 ...    83   94   38   47    5   \n",
       "13   74  66  88  98  30  17  68  64  60  78 ...    39   35   81   28   22   \n",
       "14   25  48  50  62  44  54   0  86  16  19 ...    92   51   10   68   23   \n",
       "15   56  88  80  46  54  79  71  14  77  15 ...    53   84   58   85   29   \n",
       "16   76  12  59  26  76  71  87  39  43  76 ...    91   69   98   33   43   \n",
       "17   89  27  43   1  82  94  96  26  84  30 ...    22   98   52    3   70   \n",
       "18   70  13  36  23  22  66  92  95  53   9 ...    57   88   93   76   82   \n",
       "19   57  35  41  81   2  85  93  36  46  80 ...    72   28    2   99   13   \n",
       "20   38  63  46  89   2  98  28  78  75  58 ...    26   21   58   16   92   \n",
       "21   14  87  75  35  63  32  91  49   0  22 ...    70   36   18   27   28   \n",
       "22   85  16  29  11  61  14  30   8  40  48 ...    23   66   92   64   12   \n",
       "23    5  81   5  42  86  52  57  56  78  87 ...    10   72   48   19   12   \n",
       "24   27  50  68   3  58  12   2  76  96  96 ...    15   74   12   18   30   \n",
       "25   60  43  31  99  44  24  62  79  21  19 ...    33    4   39   67   34   \n",
       "26   48  81   5  91   8  40  69   5   7  78 ...    78   33   27   51   77   \n",
       "27    3  67  54  97  63  99  80  28  37  64 ...    93   18   78   70   92   \n",
       "28   93  18  36  29  39  28  54  29  55  90 ...    60   12   17   71   91   \n",
       "29   76  62  51  96  30  22   5  91  95  22 ...    22   18   93   29   18   \n",
       "..   ..  ..  ..  ..  ..  ..  ..  ..  ..  .. ...   ...  ...  ...  ...  ...   \n",
       "170  31  53  87  92  78   2  69  96  22  42 ...    20   56   39   37   26   \n",
       "171  54   1  28   6  44  67  32  29  69  12 ...    15   74   92   16   23   \n",
       "172  24  80  37  63  60  81  49  78  11   0 ...    23   81   90   12   56   \n",
       "173  16   6  21  34  47  45  42  25  35  75 ...    53   87   74   66   77   \n",
       "174  95  47  69  34  61  32  47  18  91  91 ...    81   12   41   57   70   \n",
       "175  71  14  26  39  90  58  45  82  84  52 ...    13    9   25   47   64   \n",
       "176  44  88  83  68  67  70  35  34  24  61 ...    73   20   76   72   58   \n",
       "177  27  96  82  89  71  73  96  60  89  79 ...    22   34   55    7   37   \n",
       "178  57  64  39  14  22  26  15  81  76  92 ...    49   88   32   25   98   \n",
       "179  64  10  97   1  56  72  91  56  21  86 ...    72   74   92   14   14   \n",
       "180  83  77  71  58  62  42  18  58  75  12 ...    45   49   94   22   76   \n",
       "181  19  88  50  74  91  90  40  59   2   8 ...    71   29   95   10   72   \n",
       "182   5  48  36  82  67   6  38  18  71  53 ...    52   46   97   74   53   \n",
       "183   1   6  18  34  31  96  80  98  43  51 ...    82    8    2   19   62   \n",
       "184  62  76  76  74  70  47  78  31  33  43 ...    56   86   46   37   36   \n",
       "185  34  35   7  71   1   3  46  61   6   3 ...    36   84   48   81   14   \n",
       "186  57  85  67  46  50   2   0  81  58  18 ...    65   27   96   83   58   \n",
       "187  98  90  46  37  88  40   6  44  30  58 ...    65   21   89   57    0   \n",
       "188  47  42   1  81  47  16  68  21  61  29 ...    96   66   34   88   86   \n",
       "189  16  78   7  53  53  67  77  12  86  85 ...    13   61    6   57   45   \n",
       "190  40   7   4  92  99   7  18  51  72   2 ...    46   18   86   29   35   \n",
       "191  69  24  69  29  77  24  42  10  65  85 ...    20   13   26    6   31   \n",
       "192  50  81  37  76  70  20  54  15  45  29 ...    14   13   76   81   47   \n",
       "193  72  42  61  44  44  53  32  28   5  20 ...     7   51   97   50   83   \n",
       "194  35  37  41   9  15  93  85  76  29  52 ...    86   37   15   22   91   \n",
       "195  95  72  72  99  89  16  85  74  32  62 ...    73   37    2   45   13   \n",
       "196  65  69  88  74  36  65  56  77  70  16 ...    97   57   93    5   89   \n",
       "197  41  81  51  46  58  39  83  15  75  93 ...    52   56   25   79   36   \n",
       "198  22  84  28  56  32  58  86  68  66  22 ...    73    1   33   80    7   \n",
       "199  35  46  81  23  20   4  23  25  46  31 ...    18   11   53   45    6   \n",
       "\n",
       "     x16  x17  x18  x19  x20  \n",
       "0     18   84   11   28   29  \n",
       "1      0   60   81    8   88  \n",
       "2     52   80   41   82   15  \n",
       "3     38    8   32   34   10  \n",
       "4      0   77    6   52   85  \n",
       "5     45   68   57   82   96  \n",
       "6     97    2   92   98   10  \n",
       "7     13   97   53   84   10  \n",
       "8     59   15   24    9   66  \n",
       "9     28   45   67   66   78  \n",
       "10    55   82   31   28   94  \n",
       "11    30   91   14   19   26  \n",
       "12    79   63   87   32   42  \n",
       "13    38   41   74   77   70  \n",
       "14    14   63   21   46    3  \n",
       "15    44   37   22   91   54  \n",
       "16    26   56   69   73   52  \n",
       "17    12   39   83   48   61  \n",
       "18    11   36   16   30   84  \n",
       "19    41   36   40   18   97  \n",
       "20    37   11   22    6   96  \n",
       "21    52   94   50   46    7  \n",
       "22    17   33   10   28   75  \n",
       "23    25   77   16    4   88  \n",
       "24    59    5   16   95   96  \n",
       "25    34   42   78   82   38  \n",
       "26    30   43   46    9   67  \n",
       "27    52   10   32   46   63  \n",
       "28     7   83   56   51   32  \n",
       "29    52   31   49   98   83  \n",
       "..   ...  ...  ...  ...  ...  \n",
       "170   21    3   62   28    9  \n",
       "171   15   11    4   71   94  \n",
       "172   81   28   35   80    8  \n",
       "173   60   52   49   36   60  \n",
       "174    2   34   80   66   87  \n",
       "175   88   39   85   21   45  \n",
       "176   55   15   82   41   63  \n",
       "177   98    0   75   73   63  \n",
       "178   52   60   77    5   46  \n",
       "179   49   88   45   86   30  \n",
       "180   56   89   38   86   11  \n",
       "181   63   13   35   61   27  \n",
       "182    3   24   43   25   26  \n",
       "183   94   75   25   35   79  \n",
       "184   10   50   77   19   45  \n",
       "185   15   99   48   43   43  \n",
       "186   20   96   43   84   11  \n",
       "187   77   67   15   70    3  \n",
       "188   77   97   38   10   21  \n",
       "189   61   51   93    6   57  \n",
       "190   11   52   76   37   78  \n",
       "191   83   49   65   54    0  \n",
       "192   43   75   62   25   25  \n",
       "193   21    9   77   11   67  \n",
       "194   36   45   66    3   58  \n",
       "195   41   33    3    4   30  \n",
       "196   87   29   95   69   86  \n",
       "197    4   82   94   11   42  \n",
       "198   63   69    5   42   15  \n",
       "199   20    5   67   11   44  \n",
       "\n",
       "[200 rows x 21 columns]>"
      ]
     },
     "execution_count": 61,
     "metadata": {},
     "output_type": "execute_result"
    }
   ],
   "source": [
    "matrixdf"
   ]
  },
  {
   "cell_type": "code",
   "execution_count": 62,
   "metadata": {
    "collapsed": false
   },
   "outputs": [
    {
     "data": {
      "text/plain": [
       "method"
      ]
     },
     "execution_count": 62,
     "metadata": {},
     "output_type": "execute_result"
    }
   ],
   "source": [
    "type(matrixdf)"
   ]
  },
  {
   "cell_type": "code",
   "execution_count": 68,
   "metadata": {
    "collapsed": false
   },
   "outputs": [],
   "source": [
    "features = 20\n",
    "N = 100\n",
    "\n",
    "#np.random.seed(10)\n",
    "y = np.random.random(N)\n",
    "X = np.random.random((N, features))\n",
    "B = np.linalg.inv(X.T.dot(X)).dot(X.T).dot(y)\n",
    "resids = y - X.dot(B)"
   ]
  },
  {
   "cell_type": "code",
   "execution_count": 72,
   "metadata": {
    "collapsed": false
   },
   "outputs": [
    {
     "data": {
      "text/plain": [
       "(100, 20)"
      ]
     },
     "execution_count": 72,
     "metadata": {},
     "output_type": "execute_result"
    }
   ],
   "source": [
    "X.shape"
   ]
  },
  {
   "cell_type": "code",
   "execution_count": 73,
   "metadata": {
    "collapsed": false
   },
   "outputs": [
    {
     "data": {
      "text/plain": [
       "(100,)"
      ]
     },
     "execution_count": 73,
     "metadata": {},
     "output_type": "execute_result"
    }
   ],
   "source": [
    "y.shape"
   ]
  },
  {
   "cell_type": "code",
   "execution_count": 76,
   "metadata": {
    "collapsed": false
   },
   "outputs": [
    {
     "data": {
      "text/plain": [
       "(20,)"
      ]
     },
     "execution_count": 76,
     "metadata": {},
     "output_type": "execute_result"
    }
   ],
   "source": [
    "B.shape"
   ]
  },
  {
   "cell_type": "code",
   "execution_count": null,
   "metadata": {
    "collapsed": true
   },
   "outputs": [],
   "source": []
  }
 ],
 "metadata": {
  "kernelspec": {
   "display_name": "Python 3",
   "language": "python",
   "name": "python3"
  },
  "language_info": {
   "codemirror_mode": {
    "name": "ipython",
    "version": 3
   },
   "file_extension": ".py",
   "mimetype": "text/x-python",
   "name": "python",
   "nbconvert_exporter": "python",
   "pygments_lexer": "ipython3",
   "version": "3.5.1"
  }
 },
 "nbformat": 4,
 "nbformat_minor": 0
}
